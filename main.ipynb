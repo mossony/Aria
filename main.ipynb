{
 "cells": [
  {
   "cell_type": "code",
   "execution_count": 98,
   "metadata": {
    "collapsed": true,
    "ExecuteTime": {
     "end_time": "2023-07-25T01:54:08.667230Z",
     "start_time": "2023-07-25T01:54:08.646212300Z"
    }
   },
   "outputs": [
    {
     "data": {
      "text/plain": "'soundfile'"
     },
     "execution_count": 98,
     "metadata": {},
     "output_type": "execute_result"
    }
   ],
   "source": [
    "import torch\n",
    "import torchaudio\n",
    "import torch.nn as nn\n",
    "import torch.nn.functional as F\n",
    "import os\n",
    "from pydub import AudioSegment\n",
    "\n",
    "import matplotlib.pyplot as plt\n",
    "str(torchaudio.get_audio_backend())"
   ]
  },
  {
   "cell_type": "code",
   "execution_count": 99,
   "outputs": [
    {
     "name": "stdout",
     "output_type": "stream",
     "text": [
      "Using GPU: NVIDIA GeForce RTX 4070 Ti\n"
     ]
    }
   ],
   "source": [
    "if torch.cuda.is_available():\n",
    "    # Set the default device to the first available GPU (index 0)\n",
    "    torch.cuda.set_device(0)\n",
    "    device = torch.device('cuda')\n",
    "    print(\"Using GPU:\", torch.cuda.get_device_name(0))\n",
    "else:\n",
    "    device = torch.device('cpu')\n",
    "    print(\"CUDA is not available. Using CPU.\")"
   ],
   "metadata": {
    "collapsed": false,
    "ExecuteTime": {
     "end_time": "2023-07-25T01:54:15.530112100Z",
     "start_time": "2023-07-25T01:54:15.509990300Z"
    }
   }
  },
  {
   "cell_type": "code",
   "execution_count": 66,
   "outputs": [],
   "source": [
    "# # convert all mp3 to wav\n",
    "# genre_folder = r\"\"\n",
    "# i = 10\n",
    "#\n",
    "# for song in os.listdir(genre_folder):\n",
    "#     song_path = os.path.join(genre_folder, song)\n",
    "#     audio = AudioSegment.from_mp3(song_path)\n",
    "#     wav_file_path = os.path.join(genre_folder, str(i) + \".wav\")\n",
    "#     audio.export(wav_file_path, format=\"wav\")\n",
    "#     i += 1"
   ],
   "metadata": {
    "collapsed": false,
    "ExecuteTime": {
     "end_time": "2023-07-25T01:37:23.261047Z",
     "start_time": "2023-07-25T01:37:10.569858Z"
    }
   }
  },
  {
   "cell_type": "code",
   "execution_count": 132,
   "outputs": [
    {
     "name": "stdout",
     "output_type": "stream",
     "text": [
      "X shape: torch.Size([4944, 441])\n",
      "Y shape: torch.Size([4944, 441])\n"
     ]
    }
   ],
   "source": [
    "# block_size = 1 # context length: how many seconds do we take to predict the next one?\n",
    "# downsample_size = 100\n",
    "# sample_rate = 44100\n",
    "# input_size = sample_rate // downsample_size\n",
    "# target_size = sample_rate // downsample_size\n",
    "# X = []\n",
    "# Y = []\n",
    "#\n",
    "# for genre in os.listdir(\"./assets\"):\n",
    "#     for song in os.listdir(\"./assets/\" + genre):\n",
    "#         if song.endswith(\".wav\"):\n",
    "#             waveform = torchaudio.load(os.path.join(\"./assets\", genre, song))[0][0] # get the left channel waveform\n",
    "#             context = [0] * input_size * block_size\n",
    "#             for i in range(0, len(waveform) + sample_rate, sample_rate):\n",
    "#                 one_sec_tensor = waveform[i:i+input_size]\n",
    "#                 # if len(one_sec_tensor) < input_size:\n",
    "#                 #     # last second might not be complete, augment with all zeros\n",
    "#                 #     one_sec_tensor = torch.cat([one_sec_tensor, torch.zeros(44100 - len(one_sec_tensor))])\n",
    "#\n",
    "#                 one_sec_list = one_sec_tensor.tolist()[0::downsample_size]\n",
    "#                 if len(one_sec_list) < input_size:\n",
    "#                     one_sec_list.extend([0] * (input_size - len(one_sec_list)))\n",
    "#                 X.append(context)\n",
    "#                 Y.append(one_sec_list)\n",
    "#                 context = context[input_size * block_size:] + one_sec_list\n",
    "#\n",
    "# X = torch.tensor(X)\n",
    "# Y = torch.tensor(Y)\n",
    "# X = X.to(device)\n",
    "# Y = Y.to(device)\n",
    "# print(\"X shape:\", X.shape)\n",
    "# print(\"Y shape:\", Y.shape)\n"
   ],
   "metadata": {
    "collapsed": false,
    "ExecuteTime": {
     "end_time": "2023-07-24T19:52:18.065409300Z",
     "start_time": "2023-07-24T19:52:16.260231500Z"
    }
   }
  },
  {
   "cell_type": "code",
   "execution_count": 172,
   "outputs": [
    {
     "name": "stdout",
     "output_type": "stream",
     "text": [
      "X shape: torch.Size([1620, 100])\n",
      "Y shape: torch.Size([1620, 2])\n"
     ]
    }
   ],
   "source": [
    "genre_to_i = {}\n",
    "i_to_genre = {}\n",
    "downsample_size = 2205 # get a sample every 441 samples, resulting 20 per second\n",
    "sample_rate = 44100\n",
    "segment_seconds = 5\n",
    "input_size = sample_rate // downsample_size * segment_seconds\n",
    "# target_size = sample_rate // downsample_size\n",
    "X = []\n",
    "Y_ = []\n",
    "\n",
    "num_genres = 0\n",
    "for genre in os.listdir(\"./assets\"):\n",
    "    genre_to_i[genre] = num_genres\n",
    "\n",
    "    for song in os.listdir(\"./assets/\" + genre):\n",
    "        if song.endswith(\".wav\"):\n",
    "            waveform = torchaudio.load(os.path.join(\"./assets\", genre, song))[0][0] # get the left channel waveform\n",
    "            for i in range(0, len(waveform) - sample_rate * segment_seconds, sample_rate * segment_seconds):\n",
    "                one_sec_tensor = waveform[i:i+sample_rate * segment_seconds]\n",
    "                one_sec_list = one_sec_tensor.tolist()[0::downsample_size]\n",
    "                X.append(one_sec_list)\n",
    "                Y_.append(num_genres)\n",
    "    num_genres += 1\n",
    "\n",
    "Y = torch.zeros((len(X), num_genres))\n",
    "for j in range(len(Y_)):\n",
    "    Y[j][Y_[j]] += 1\n",
    "X = torch.tensor(X)\n",
    "\n",
    "X = X.to(device)\n",
    "Y = Y.to(device)\n",
    "\n",
    "print(\"X shape:\", X.shape)\n",
    "print(\"Y shape:\", Y.shape)"
   ],
   "metadata": {
    "collapsed": false,
    "ExecuteTime": {
     "end_time": "2023-07-25T02:25:56.136387200Z",
     "start_time": "2023-07-25T02:25:46.664315Z"
    }
   }
  },
  {
   "cell_type": "code",
   "execution_count": 173,
   "outputs": [
    {
     "data": {
      "text/plain": "tensor([0., 1.], device='cuda:0')"
     },
     "execution_count": 173,
     "metadata": {},
     "output_type": "execute_result"
    }
   ],
   "source": [
    "Y[-1]"
   ],
   "metadata": {
    "collapsed": false,
    "ExecuteTime": {
     "end_time": "2023-07-25T02:26:06.720100Z",
     "start_time": "2023-07-25T02:26:06.697895200Z"
    }
   }
  },
  {
   "cell_type": "code",
   "execution_count": 174,
   "outputs": [
    {
     "name": "stdout",
     "output_type": "stream",
     "text": [
      "Number of samples in Xtr, Ytr: 1296\n",
      "Number of samples in Xdev, Ydev: 162\n",
      "Number of samples in Xte, Yte: 162\n"
     ]
    }
   ],
   "source": [
    "# split the dataset\n",
    "from torch.utils.data import random_split\n",
    "\n",
    "# Assuming you have X and Y tensors with shapes:\n",
    "# X shape: torch.Size([4914, 100])\n",
    "# Y shape: torch.Size([4914, 3])\n",
    "\n",
    "# Define the percentages for train, dev, and test sets\n",
    "train_percent = 0.8\n",
    "dev_percent = 0.1\n",
    "test_percent = 0.1\n",
    "\n",
    "# Calculate the number of samples for each split\n",
    "num_samples = X.shape[0]\n",
    "num_train_samples = int(num_samples * train_percent)\n",
    "num_dev_samples = int(num_samples * dev_percent)\n",
    "num_test_samples = num_samples - num_train_samples - num_dev_samples\n",
    "\n",
    "# Create a dataset from X and Y\n",
    "dataset = torch.utils.data.TensorDataset(X, Y)\n",
    "\n",
    "# Split the dataset into train, dev, and test sets\n",
    "train_dataset, dev_dataset, test_dataset = random_split(\n",
    "    dataset, [num_train_samples, num_dev_samples, num_test_samples]\n",
    ")\n",
    "\n",
    "# Create data loaders for each split\n",
    "batch_size = 64  # Set an appropriate batch size for training\n",
    "train_loader = torch.utils.data.DataLoader(train_dataset, batch_size=batch_size, shuffle=True)\n",
    "dev_loader = torch.utils.data.DataLoader(dev_dataset, batch_size=batch_size)\n",
    "test_loader = torch.utils.data.DataLoader(test_dataset, batch_size=batch_size)\n",
    "\n",
    "# Check the number of samples in each split\n",
    "print(\"Number of samples in Xtr, Ytr:\", len(train_dataset))\n",
    "print(\"Number of samples in Xdev, Ydev:\", len(dev_dataset))\n",
    "print(\"Number of samples in Xte, Yte:\", len(test_dataset))\n",
    "\n",
    "def extract_input_target(dataset):\n",
    "    X = torch.stack([sample[0] for sample in dataset])\n",
    "    Y = torch.stack([sample[1] for sample in dataset])\n",
    "    return X, Y\n",
    "\n",
    "# Extract input and target for training dataset\n",
    "Xtr, Ytr = extract_input_target(train_dataset)\n",
    "\n",
    "# Extract input and target for development (validation) dataset\n",
    "Xdev, Ydev = extract_input_target(dev_dataset)\n",
    "\n",
    "# Extract input and target for test dataset\n",
    "Xte, Yte = extract_input_target(test_dataset)"
   ],
   "metadata": {
    "collapsed": false,
    "ExecuteTime": {
     "end_time": "2023-07-25T02:26:07.602393400Z",
     "start_time": "2023-07-25T02:26:07.570387800Z"
    }
   }
  },
  {
   "cell_type": "code",
   "execution_count": 175,
   "outputs": [
    {
     "data": {
      "text/plain": "tensor([[ 0.0116, -0.4468,  0.4755,  ...,  0.0660, -0.3575, -0.2663],\n        [ 0.2467, -0.2715,  0.1823,  ..., -0.4230,  0.3980,  0.2597],\n        [-0.0361, -0.1191,  0.2534,  ...,  0.0563,  0.1633, -0.1313],\n        ...,\n        [-0.1815, -0.0984,  0.0760,  ..., -0.0739,  0.0781, -0.1923],\n        [-0.0145, -0.0252,  0.0339,  ..., -0.1035,  0.1293,  0.0301],\n        [ 0.2968, -0.2063,  0.0226,  ...,  0.5928,  0.4333, -0.0491]],\n       device='cuda:0')"
     },
     "execution_count": 175,
     "metadata": {},
     "output_type": "execute_result"
    }
   ],
   "source": [
    "Xtr"
   ],
   "metadata": {
    "collapsed": false,
    "ExecuteTime": {
     "end_time": "2023-07-25T02:26:09.725492700Z",
     "start_time": "2023-07-25T02:26:09.704432300Z"
    }
   }
  },
  {
   "cell_type": "code",
   "execution_count": 176,
   "outputs": [
    {
     "data": {
      "text/plain": "<Figure size 1000x400 with 1 Axes>",
      "image/png": "[encoded data removed]"
     },
     "metadata": {},
     "output_type": "display_data"
    }
   ],
   "source": [
    "num_samples = 100\n",
    "\n",
    "# Separate the channels\n",
    "channel_1 = X[100]\n",
    "\n",
    "# Create the time axis for plotting (in seconds)\n",
    "time_axis = torch.arange(0, num_samples) / sample_rate\n",
    "\n",
    "# Plot Channel 1\n",
    "plt.figure(figsize=(10, 4))\n",
    "plt.plot(time_axis.numpy(), channel_1.cpu().numpy(), label=\"Channel 1\", color='b')\n",
    "plt.xlabel(\"Time (s)\")\n",
    "plt.ylabel(\"Amplitude\")\n",
    "plt.title(\"Waveform - Channel 1\")\n",
    "plt.grid(True)\n",
    "\n",
    "plt.show()"
   ],
   "metadata": {
    "collapsed": false,
    "ExecuteTime": {
     "end_time": "2023-07-25T02:26:11.312443300Z",
     "start_time": "2023-07-25T02:26:11.174898Z"
    }
   }
  },
  {
   "cell_type": "code",
   "execution_count": 177,
   "outputs": [],
   "source": [
    "# -----------------------------------------------------------------------------------------------\n",
    "class Linear:\n",
    "\n",
    "  def __init__(self, fan_in, fan_out, bias=True):\n",
    "    self.weight = torch.randn((fan_in, fan_out), device=device) / fan_in**0.5 # note: kaiming init\n",
    "    self.bias = torch.zeros(fan_out, device=device) if bias else None\n",
    "\n",
    "  def __call__(self, x):\n",
    "    self.out = x @ self.weight\n",
    "    if self.bias is not None:\n",
    "      self.out += self.bias\n",
    "    return self.out\n",
    "\n",
    "  def parameters(self):\n",
    "    return [self.weight] + ([] if self.bias is None else [self.bias])\n",
    "\n",
    "# -----------------------------------------------------------------------------------------------\n",
    "class BatchNorm1d:\n",
    "\n",
    "  def __init__(self, dim, eps=1e-5, momentum=0.1):\n",
    "    self.eps = eps\n",
    "    self.momentum = momentum\n",
    "    self.training = True\n",
    "    # parameters (trained with backprop)\n",
    "    self.gamma = torch.ones(dim, device=device)\n",
    "    self.beta = torch.zeros(dim, device=device)\n",
    "    # buffers (trained with a running 'momentum update')\n",
    "    self.running_mean = torch.zeros(dim, device=device)\n",
    "    self.running_var = torch.ones(dim, device=device)\n",
    "\n",
    "  def __call__(self, x):\n",
    "    # calculate the forward pass\n",
    "    if self.training:\n",
    "      if x.ndim == 2:\n",
    "        dim = 0\n",
    "      elif x.ndim == 3:\n",
    "        dim = (0,1)\n",
    "      xmean = x.mean(dim, keepdim=True) # batch mean\n",
    "      xvar = x.var(dim, keepdim=True) # batch variance\n",
    "    else:\n",
    "      xmean = self.running_mean\n",
    "      xvar = self.running_var\n",
    "    xhat = (x - xmean) / torch.sqrt(xvar + self.eps) # normalize to unit variance\n",
    "    self.out = self.gamma * xhat + self.beta\n",
    "    # update the buffers\n",
    "    if self.training:\n",
    "      with torch.no_grad():\n",
    "        self.running_mean = (1 - self.momentum) * self.running_mean + self.momentum * xmean\n",
    "        self.running_var = (1 - self.momentum) * self.running_var + self.momentum * xvar\n",
    "    return self.out\n",
    "\n",
    "  def parameters(self):\n",
    "    return [self.gamma, self.beta]\n",
    "\n",
    "# -----------------------------------------------------------------------------------------------\n",
    "class Tanh:\n",
    "  def __call__(self, x):\n",
    "    self.out = torch.tanh(x)\n",
    "    return self.out\n",
    "  def parameters(self):\n",
    "    return []\n",
    "\n",
    "# -----------------------------------------------------------------------------------------------\n",
    "class Embedding:\n",
    "\n",
    "  def __init__(self, num_embeddings, embedding_dim):\n",
    "    self.weight = torch.randn((num_embeddings, embedding_dim))\n",
    "\n",
    "  def __call__(self, IX):\n",
    "    self.out = self.weight[IX]\n",
    "    return self.out\n",
    "\n",
    "  def parameters(self):\n",
    "    return [self.weight]\n",
    "\n",
    "# -----------------------------------------------------------------------------------------------\n",
    "class FlattenConsecutive:\n",
    "\n",
    "  def __init__(self, n):\n",
    "    self.n = n\n",
    "\n",
    "  def __call__(self, x):\n",
    "    B, T, C = x.shape\n",
    "    x = x.view(B, T//self.n, C*self.n)\n",
    "    if x.shape[1] == 1:\n",
    "      x = x.squeeze(1)\n",
    "    self.out = x\n",
    "    return self.out\n",
    "\n",
    "  def parameters(self):\n",
    "    return []\n",
    "\n",
    "# -----------------------------------------------------------------------------------------------\n",
    "class Sequential:\n",
    "\n",
    "  def __init__(self, layers):\n",
    "    self.layers = layers\n",
    "\n",
    "  def __call__(self, x):\n",
    "    for layer in self.layers:\n",
    "      x = layer(x)\n",
    "    self.out = x\n",
    "    return self.out\n",
    "\n",
    "  def parameters(self):\n",
    "    # get parameters of all layers and stretch them out into one list\n",
    "    return [p for layer in self.layers for p in layer.parameters()]"
   ],
   "metadata": {
    "collapsed": false,
    "ExecuteTime": {
     "end_time": "2023-07-25T02:26:15.359416200Z",
     "start_time": "2023-07-25T02:26:15.328928700Z"
    }
   }
  },
  {
   "cell_type": "code",
   "execution_count": 178,
   "outputs": [],
   "source": [
    "torch.manual_seed(42);"
   ],
   "metadata": {
    "collapsed": false,
    "ExecuteTime": {
     "end_time": "2023-07-25T02:26:16.331258700Z",
     "start_time": "2023-07-25T02:26:16.318708200Z"
    }
   }
  },
  {
   "cell_type": "code",
   "execution_count": 201,
   "outputs": [
    {
     "name": "stdout",
     "output_type": "stream",
     "text": [
      "<__main__.Sequential object at 0x00000126B1988760>\n",
      "1954\n"
     ]
    }
   ],
   "source": [
    "# Create an instance of the model\n",
    "n_embd = input_size # the dimensionality of the character embedding vectors\n",
    "n_hidden = 16\n",
    "model = Sequential([\n",
    "  # Embedding(X.shape[1], n_embd),\n",
    "  Linear(n_embd, n_hidden, bias=False), BatchNorm1d(n_hidden), nn.ReLU(),\n",
    "  Linear(n_hidden, n_hidden, bias=False), BatchNorm1d(n_hidden), nn.ReLU(),\n",
    "  # FlattenConsecutive(2), Linear(n_hidden*2, n_hidden, bias=False), BatchNorm1d(n_hidden), Tanh(),\n",
    "  Linear(n_hidden, Y.shape[1]),\n",
    "])\n",
    "# Print the model architecture\n",
    "print(model)\n",
    "\n",
    "parameters = model.parameters()\n",
    "print(sum(p.nelement() for p in parameters)) # number of parameters in total\n",
    "for p in parameters:\n",
    "    p.requires_grad = True"
   ],
   "metadata": {
    "collapsed": false,
    "ExecuteTime": {
     "end_time": "2023-07-25T02:54:47.941788600Z",
     "start_time": "2023-07-25T02:54:47.911657300Z"
    }
   }
  },
  {
   "cell_type": "code",
   "execution_count": 202,
   "outputs": [
    {
     "name": "stdout",
     "output_type": "stream",
     "text": [
      "      0/  50000: 0.8067\n",
      "  10000/  50000: 0.0497\n",
      "  20000/  50000: 0.0053\n",
      "  30000/  50000: 0.0845\n",
      "  40000/  50000: 0.1243\n"
     ]
    }
   ],
   "source": [
    "max_steps = 50000\n",
    "batch_size = 32\n",
    "lossi = []\n",
    "\n",
    "for i in range(max_steps):\n",
    "    # minibatch construct\n",
    "    ix = torch.randint(0, Xtr.shape[0], (batch_size,))\n",
    "    Xb, Yb = Xtr[ix], Ytr[ix] # batch X,Y\n",
    "\n",
    "    # forward pass\n",
    "    logits = model(Xb)\n",
    "    loss = F.cross_entropy(logits, Yb) # loss function\n",
    "\n",
    "    # backward pass\n",
    "    for p in parameters:\n",
    "        p.grad = None\n",
    "    loss.backward()\n",
    "\n",
    "    # update: simple SGD\n",
    "    lr = 0.1 #if i < 150000 else 0.01 # step learning rate decay\n",
    "    for p in parameters:\n",
    "        p.data += -lr * p.grad\n",
    "\n",
    "    # track stats\n",
    "    if i % 10000 == 0: # print every once in a while\n",
    "        print(f'{i:7d}/{max_steps:7d}: {loss.item():.4f}')\n",
    "    lossi.append(loss.log10().item())"
   ],
   "metadata": {
    "collapsed": false,
    "ExecuteTime": {
     "end_time": "2023-07-25T02:57:51.316067300Z",
     "start_time": "2023-07-25T02:54:48.918354300Z"
    }
   }
  },
  {
   "cell_type": "code",
   "execution_count": 203,
   "outputs": [],
   "source": [
    "for layer in model.layers:\n",
    "    layer.training = False"
   ],
   "metadata": {
    "collapsed": false,
    "ExecuteTime": {
     "end_time": "2023-07-25T03:19:09.217705300Z",
     "start_time": "2023-07-25T03:19:09.209709Z"
    }
   }
  },
  {
   "cell_type": "code",
   "execution_count": 204,
   "outputs": [
    {
     "name": "stdout",
     "output_type": "stream",
     "text": [
      "train 0.014277449809014797\n",
      "val 3.1891088485717773\n"
     ]
    }
   ],
   "source": [
    "# evaluate the loss\n",
    "@torch.no_grad() # this decorator disables gradient tracking inside pytorch\n",
    "def split_loss(split):\n",
    "  x,y = {\n",
    "    'train': (Xtr, Ytr),\n",
    "    'val': (Xdev, Ydev),\n",
    "    'test': (Xte, Yte),\n",
    "  }[split]\n",
    "  logits = model(x)\n",
    "  loss = F.cross_entropy(logits, y)\n",
    "  print(split, loss.item())\n",
    "\n",
    "split_loss('train')\n",
    "split_loss('val')"
   ],
   "metadata": {
    "collapsed": false,
    "ExecuteTime": {
     "end_time": "2023-07-25T03:19:09.684489500Z",
     "start_time": "2023-07-25T03:19:09.655888200Z"
    }
   }
  },
  {
   "cell_type": "code",
   "execution_count": 205,
   "outputs": [],
   "source": [
    "def check_success_rate(x, y):\n",
    "    s = 0\n",
    "    f = 0\n",
    "    for i in range(x.shape[0]):\n",
    "        predict = torch.argmax(model(x[i]))\n",
    "        actual = torch.argmax(y[i])\n",
    "        if predict.item() == actual.item():\n",
    "            s += 1\n",
    "        else:\n",
    "            f += 1\n",
    "    print(s, f)\n",
    "    return s/(s+f)"
   ],
   "metadata": {
    "collapsed": false,
    "ExecuteTime": {
     "end_time": "2023-07-25T03:19:10.499291800Z",
     "start_time": "2023-07-25T03:19:10.423645300Z"
    }
   }
  },
  {
   "cell_type": "code",
   "execution_count": 206,
   "outputs": [
    {
     "name": "stdout",
     "output_type": "stream",
     "text": [
      "97 65\n"
     ]
    },
    {
     "data": {
      "text/plain": "0.5987654320987654"
     },
     "execution_count": 206,
     "metadata": {},
     "output_type": "execute_result"
    }
   ],
   "source": [
    "check_success_rate(Xdev, Ydev)"
   ],
   "metadata": {
    "collapsed": false,
    "ExecuteTime": {
     "end_time": "2023-07-25T03:19:11.058495700Z",
     "start_time": "2023-07-25T03:19:10.944985500Z"
    }
   }
  },
  {
   "cell_type": "code",
   "execution_count": 207,
   "outputs": [],
   "source": [
    "a = torch.argmax(Yte[0])"
   ],
   "metadata": {
    "collapsed": false,
    "ExecuteTime": {
     "end_time": "2023-07-25T03:19:14.510591900Z",
     "start_time": "2023-07-25T03:19:14.486009300Z"
    }
   }
  },
  {
   "cell_type": "code",
   "execution_count": 208,
   "outputs": [
    {
     "data": {
      "text/plain": "0"
     },
     "execution_count": 208,
     "metadata": {},
     "output_type": "execute_result"
    }
   ],
   "source": [
    "a.item()"
   ],
   "metadata": {
    "collapsed": false,
    "ExecuteTime": {
     "end_time": "2023-07-25T03:19:15.421442Z",
     "start_time": "2023-07-25T03:19:15.392447600Z"
    }
   }
  },
  {
   "cell_type": "code",
   "execution_count": 209,
   "outputs": [
    {
     "data": {
      "text/plain": "tensor([ 9.4727e-02,  3.6530e-02,  1.2695e-01, -1.4178e-01,  3.7903e-02,\n         9.8724e-02, -1.6479e-02,  8.1024e-02,  1.1444e-02, -2.6184e-02,\n         6.8390e-02,  1.2677e-01, -3.1708e-02,  2.1423e-02, -1.6006e-01,\n        -2.0874e-02,  4.1870e-02, -1.1392e-01, -1.4423e-01, -1.0892e-01,\n        -6.4301e-02, -2.0325e-02, -2.1628e-01,  3.1772e-01, -1.3123e-03,\n         1.1786e-01,  3.0212e-02,  1.0275e-01, -1.6113e-02, -8.0109e-02,\n        -6.9641e-02, -1.1429e-01,  8.3954e-02, -1.5683e-01,  8.4259e-02,\n         3.5553e-02,  3.9276e-02,  6.3477e-03,  8.1177e-03,  1.2756e-02,\n        -7.5867e-02,  1.3336e-02, -3.3142e-02,  5.7373e-03,  3.7720e-02,\n         7.0801e-02,  4.8615e-02, -1.1591e-01, -3.1189e-02, -2.6947e-02,\n        -3.5309e-02,  1.3440e-01, -6.7444e-03,  6.8390e-02,  7.0190e-02,\n        -2.7313e-02,  2.0813e-02,  5.3711e-03, -4.3762e-02, -1.8860e-02,\n         6.9122e-02,  9.1156e-02,  1.1169e-02, -6.0669e-02,  1.5472e-02,\n         8.3588e-02,  1.1322e-02,  3.9032e-02, -1.0132e-02, -1.6052e-02,\n        -9.8907e-02,  4.9133e-02, -7.8674e-02,  8.1818e-02, -9.9030e-02,\n         1.2097e-01,  6.9275e-02, -8.5571e-02, -4.2548e-01,  4.3976e-02,\n        -1.2106e-01, -2.4503e-01,  2.8503e-02, -1.1209e-01,  1.7334e-01,\n         3.7231e-03,  3.9984e-01,  5.7678e-02, -3.8391e-02,  6.1279e-02,\n        -1.6815e-02, -1.8311e-04, -8.3893e-02, -3.0731e-02,  3.9001e-02,\n        -1.7242e-02,  1.9461e-01,  2.3019e-01, -3.1494e-02,  2.9550e-01],\n       device='cuda:0')"
     },
     "execution_count": 209,
     "metadata": {},
     "output_type": "execute_result"
    }
   ],
   "source": [
    "Xtr[104]"
   ],
   "metadata": {
    "collapsed": false,
    "ExecuteTime": {
     "end_time": "2023-07-25T03:19:15.817499300Z",
     "start_time": "2023-07-25T03:19:15.766573200Z"
    }
   }
  },
  {
   "cell_type": "code",
   "execution_count": 141,
   "outputs": [
    {
     "data": {
      "text/plain": "tensor([0., 1.], device='cuda:0')"
     },
     "execution_count": 141,
     "metadata": {},
     "output_type": "execute_result"
    }
   ],
   "source": [
    "Ytr[104]"
   ],
   "metadata": {
    "collapsed": false,
    "ExecuteTime": {
     "end_time": "2023-07-25T02:12:54.949315500Z",
     "start_time": "2023-07-25T02:12:54.899183Z"
    }
   }
  }
 ],
 "metadata": {
  "kernelspec": {
   "display_name": "Python 3",
   "language": "python",
   "name": "python3"
  },
  "language_info": {
   "codemirror_mode": {
    "name": "ipython",
    "version": 2
   },
   "file_extension": ".py",
   "mimetype": "text/x-python",
   "name": "python",
   "nbconvert_exporter": "python",
   "pygments_lexer": "ipython2",
   "version": "2.7.6"
  }
 },
 "nbformat": 4,
 "nbformat_minor": 0
}
