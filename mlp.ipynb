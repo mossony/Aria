{
 "cells": [
  {
   "cell_type": "code",
   "execution_count": 1,
   "metadata": {
    "collapsed": true,
    "ExecuteTime": {
     "end_time": "2023-07-25T15:40:45.477235700Z",
     "start_time": "2023-07-25T15:40:41.185561400Z"
    }
   },
   "outputs": [
    {
     "data": {
      "text/plain": "'soundfile'"
     },
     "execution_count": 1,
     "metadata": {},
     "output_type": "execute_result"
    }
   ],
   "source": [
    "import torch\n",
    "import torchaudio\n",
    "import torch.nn as nn\n",
    "import torch.nn.functional as F\n",
    "import os\n",
    "from pydub import AudioSegment\n",
    "\n",
    "import matplotlib.pyplot as plt\n",
    "str(torchaudio.get_audio_backend())"
   ]
  },
  {
   "cell_type": "code",
   "execution_count": 2,
   "outputs": [
    {
     "name": "stdout",
     "output_type": "stream",
     "text": [
      "Using GPU: NVIDIA GeForce RTX 4070 Ti\n"
     ]
    }
   ],
   "source": [
    "if torch.cuda.is_available():\n",
    "    # Set the default device to the first available GPU (index 0)\n",
    "    torch.cuda.set_device(0)\n",
    "    device = torch.device('cuda')\n",
    "    print(\"Using GPU:\", torch.cuda.get_device_name(0))\n",
    "else:\n",
    "    device = torch.device('cpu')\n",
    "    print(\"CUDA is not available. Using CPU.\")"
   ],
   "metadata": {
    "collapsed": false,
    "ExecuteTime": {
     "end_time": "2023-07-25T15:41:09.335529100Z",
     "start_time": "2023-07-25T15:41:09.320341100Z"
    }
   }
  },
  {
   "cell_type": "code",
   "execution_count": 3,
   "outputs": [],
   "source": [
    "# # convert all mp3 to wav\n",
    "# genre_folder = r\"\"\n",
    "# i = 10\n",
    "#\n",
    "# for song in os.listdir(genre_folder):\n",
    "#     song_path = os.path.join(genre_folder, song)\n",
    "#     audio = AudioSegment.from_mp3(song_path)\n",
    "#     wav_file_path = os.path.join(genre_folder, str(i) + \".wav\")\n",
    "#     audio.export(wav_file_path, format=\"wav\")\n",
    "#     i += 1"
   ],
   "metadata": {
    "collapsed": false,
    "ExecuteTime": {
     "end_time": "2023-07-25T15:41:12.574909600Z",
     "start_time": "2023-07-25T15:41:12.556911300Z"
    }
   }
  },
  {
   "cell_type": "code",
   "execution_count": 4,
   "outputs": [],
   "source": [
    "# block_size = 1 # context length: how many seconds do we take to predict the next one?\n",
    "# downsample_size = 100\n",
    "# sample_rate = 44100\n",
    "# input_size = sample_rate // downsample_size\n",
    "# target_size = sample_rate // downsample_size\n",
    "# X = []\n",
    "# Y = []\n",
    "#\n",
    "# for genre in os.listdir(\"./assets\"):\n",
    "#     for song in os.listdir(\"./assets/\" + genre):\n",
    "#         if song.endswith(\".wav\"):\n",
    "#             waveform = torchaudio.load(os.path.join(\"./assets\", genre, song))[0][0] # get the left channel waveform\n",
    "#             context = [0] * input_size * block_size\n",
    "#             for i in range(0, len(waveform) + sample_rate, sample_rate):\n",
    "#                 one_sec_tensor = waveform[i:i+input_size]\n",
    "#                 # if len(one_sec_tensor) < input_size:\n",
    "#                 #     # last second might not be complete, augment with all zeros\n",
    "#                 #     one_sec_tensor = torch.cat([one_sec_tensor, torch.zeros(44100 - len(one_sec_tensor))])\n",
    "#\n",
    "#                 one_sec_list = one_sec_tensor.tolist()[0::downsample_size]\n",
    "#                 if len(one_sec_list) < input_size:\n",
    "#                     one_sec_list.extend([0] * (input_size - len(one_sec_list)))\n",
    "#                 X.append(context)\n",
    "#                 Y.append(one_sec_list)\n",
    "#                 context = context[input_size * block_size:] + one_sec_list\n",
    "#\n",
    "# X = torch.tensor(X)\n",
    "# Y = torch.tensor(Y)\n",
    "# X = X.to(device)\n",
    "# Y = Y.to(device)\n",
    "# print(\"X shape:\", X.shape)\n",
    "# print(\"Y shape:\", Y.shape)\n"
   ],
   "metadata": {
    "collapsed": false,
    "ExecuteTime": {
     "end_time": "2023-07-25T15:41:12.828641700Z",
     "start_time": "2023-07-25T15:41:12.818609100Z"
    }
   }
  },
  {
   "cell_type": "code",
   "execution_count": 20,
   "outputs": [
    {
     "name": "stdout",
     "output_type": "stream",
     "text": [
      "X shape: torch.Size([1620, 100])\n",
      "Y shape: torch.Size([1620, 2])\n"
     ]
    }
   ],
   "source": [
    "genre_to_i = {}\n",
    "i_to_genre = {}\n",
    "downsample_size = 2205 # get a sample every 441 samples, resulting 20 per second\n",
    "sample_rate = 44100\n",
    "segment_seconds = 5\n",
    "input_size = sample_rate // downsample_size * segment_seconds\n",
    "# target_size = sample_rate // downsample_size\n",
    "X = []\n",
    "Y_ = []\n",
    "\n",
    "num_genres = 0\n",
    "for genre in os.listdir(\"./assets\"):\n",
    "    genre_to_i[genre] = num_genres\n",
    "\n",
    "    for song in os.listdir(\"./assets/\" + genre):\n",
    "        if song.endswith(\".wav\"):\n",
    "            waveform = torchaudio.load(os.path.join(\"./assets\", genre, song))[0][0] # get the left channel waveform\n",
    "            for i in range(0, len(waveform) - sample_rate * segment_seconds, sample_rate * segment_seconds):\n",
    "                one_sec_tensor = waveform[i:i+sample_rate * segment_seconds]\n",
    "                one_sec_list = one_sec_tensor.tolist()[0::downsample_size]\n",
    "                X.append(one_sec_list)\n",
    "                Y_.append(num_genres)\n",
    "    num_genres += 1\n",
    "\n",
    "Y = torch.zeros((len(X), num_genres))\n",
    "for j in range(len(Y_)):\n",
    "    Y[j][Y_[j]] += 1\n",
    "X = torch.tensor(X)\n",
    "\n",
    "min_value = torch.min(X)\n",
    "max_value = torch.max(X)\n",
    "\n",
    "# Min-Max normalization\n",
    "X = (X - min_value) / (max_value - min_value)\n",
    "\n",
    "X = X.to(device)\n",
    "Y = Y.to(device)\n",
    "\n",
    "print(\"X shape:\", X.shape)\n",
    "print(\"Y shape:\", Y.shape)"
   ],
   "metadata": {
    "collapsed": false,
    "ExecuteTime": {
     "end_time": "2023-07-25T15:50:50.967162200Z",
     "start_time": "2023-07-25T15:50:42.624165900Z"
    }
   }
  },
  {
   "cell_type": "code",
   "execution_count": 21,
   "outputs": [
    {
     "data": {
      "text/plain": "tensor([0.4025, 0.1984, 0.7995, 0.6840, 0.1680, 0.3593, 0.7504, 0.6914, 0.3243,\n        0.3810, 0.6560, 0.5887, 0.0990, 0.2997, 0.6490, 0.5467, 0.3599, 0.3265,\n        0.6706, 0.4675, 0.1607, 0.0752, 0.7577, 0.8506, 0.2810, 0.3931, 0.7567,\n        0.5117, 0.0972, 0.5995, 0.8241, 0.5106, 0.1247, 0.1384, 0.1971, 0.6540,\n        0.6284, 0.2963, 0.5506, 0.7104, 0.6693, 0.0976, 0.4305, 0.9094, 0.9499,\n        0.7188, 0.6255, 0.3276, 0.5101, 0.9013, 0.2999, 0.3214, 0.8105, 0.7192,\n        0.0977, 0.5321, 0.6833, 0.4536, 0.1146, 0.8937, 0.5682, 0.3498, 0.1145,\n        0.6464, 0.8816, 0.2583, 0.2930, 0.5750, 0.7405, 0.1999, 0.4391, 0.6253,\n        0.5212, 0.4453, 0.4285, 0.6184, 0.3595, 0.4540, 0.3355, 0.7640, 0.2221,\n        0.0895, 0.7133, 0.7298, 0.1614, 0.4300, 0.1336, 0.4785, 0.8461, 0.7617,\n        0.0394, 0.5169, 0.7287, 0.2033, 0.2666, 0.6567, 0.7365, 0.2060, 0.6162,\n        0.8513], device='cuda:0')"
     },
     "execution_count": 21,
     "metadata": {},
     "output_type": "execute_result"
    }
   ],
   "source": [
    "X[150]"
   ],
   "metadata": {
    "collapsed": false,
    "ExecuteTime": {
     "end_time": "2023-07-25T15:50:53.038832400Z",
     "start_time": "2023-07-25T15:50:53.024833800Z"
    }
   }
  },
  {
   "cell_type": "code",
   "execution_count": 39,
   "outputs": [
    {
     "name": "stdout",
     "output_type": "stream",
     "text": [
      "Number of samples in Xtr, Ytr: 1296\n",
      "Number of samples in Xdev, Ydev: 162\n",
      "Number of samples in Xte, Yte: 162\n"
     ]
    }
   ],
   "source": [
    "# split the dataset\n",
    "from torch.utils.data import random_split\n",
    "\n",
    "# Assuming you have X and Y tensors with shapes:\n",
    "# X shape: torch.Size([4914, 100])\n",
    "# Y shape: torch.Size([4914, 3])\n",
    "\n",
    "# Define the percentages for train, dev, and test sets\n",
    "train_percent = 0.8\n",
    "dev_percent = 0.1\n",
    "test_percent = 0.1\n",
    "\n",
    "# Calculate the number of samples for each split\n",
    "num_samples = X.shape[0]\n",
    "num_train_samples = int(num_samples * train_percent)\n",
    "num_dev_samples = int(num_samples * dev_percent)\n",
    "num_test_samples = num_samples - num_train_samples - num_dev_samples\n",
    "\n",
    "# Create a dataset from X and Y\n",
    "dataset = torch.utils.data.TensorDataset(X, Y)\n",
    "\n",
    "# Split the dataset into train, dev, and test sets\n",
    "train_dataset, dev_dataset, test_dataset = random_split(\n",
    "    dataset, [num_train_samples, num_dev_samples, num_test_samples]\n",
    ")\n",
    "\n",
    "# Create data loaders for each split\n",
    "batch_size = 32  # Set an appropriate batch size for training\n",
    "train_loader = torch.utils.data.DataLoader(train_dataset, batch_size=batch_size, shuffle=True)\n",
    "dev_loader = torch.utils.data.DataLoader(dev_dataset, batch_size=batch_size)\n",
    "test_loader = torch.utils.data.DataLoader(test_dataset, batch_size=batch_size)\n",
    "\n",
    "# Check the number of samples in each split\n",
    "print(\"Number of samples in Xtr, Ytr:\", len(train_dataset))\n",
    "print(\"Number of samples in Xdev, Ydev:\", len(dev_dataset))\n",
    "print(\"Number of samples in Xte, Yte:\", len(test_dataset))\n",
    "\n",
    "def extract_input_target(dataset):\n",
    "    X = torch.stack([sample[0] for sample in dataset])\n",
    "    Y = torch.stack([sample[1] for sample in dataset])\n",
    "    return X, Y\n",
    "\n",
    "# Extract input and target for training dataset\n",
    "Xtr, Ytr = extract_input_target(train_dataset)\n",
    "\n",
    "# Extract input and target for development (validation) dataset\n",
    "Xdev, Ydev = extract_input_target(dev_dataset)\n",
    "\n",
    "# Extract input and target for test dataset\n",
    "Xte, Yte = extract_input_target(test_dataset)"
   ],
   "metadata": {
    "collapsed": false,
    "ExecuteTime": {
     "end_time": "2023-07-25T15:56:37.402669500Z",
     "start_time": "2023-07-25T15:56:37.356112200Z"
    }
   }
  },
  {
   "cell_type": "code",
   "execution_count": 40,
   "outputs": [
    {
     "data": {
      "text/plain": "tensor([[0.3959, 0.5627, 0.4080,  ..., 0.4023, 0.7463, 0.5520],\n        [0.4549, 0.4207, 0.6930,  ..., 0.5556, 0.4606, 0.7449],\n        [0.4766, 0.4875, 0.5145,  ..., 0.6027, 0.5505, 0.4524],\n        ...,\n        [0.5346, 0.4631, 0.4784,  ..., 0.4411, 0.4656, 0.6435],\n        [0.4742, 0.5966, 0.3494,  ..., 0.4016, 0.6363, 0.3214],\n        [0.4514, 0.6467, 0.5016,  ..., 0.4714, 0.5285, 0.5290]],\n       device='cuda:0')"
     },
     "execution_count": 40,
     "metadata": {},
     "output_type": "execute_result"
    }
   ],
   "source": [
    "Xtr"
   ],
   "metadata": {
    "collapsed": false,
    "ExecuteTime": {
     "end_time": "2023-07-25T15:56:39.409781700Z",
     "start_time": "2023-07-25T15:56:39.373779900Z"
    }
   }
  },
  {
   "cell_type": "code",
   "execution_count": 41,
   "outputs": [
    {
     "data": {
      "text/plain": "<Figure size 1000x400 with 1 Axes>",
      "image/png": "[encoded data removed]"
     },
     "metadata": {},
     "output_type": "display_data"
    }
   ],
   "source": [
    "num_samples = 100\n",
    "\n",
    "# Separate the channels\n",
    "channel_1 = X[100]\n",
    "\n",
    "# Create the time axis for plotting (in seconds)\n",
    "time_axis = torch.arange(0, num_samples) / sample_rate\n",
    "\n",
    "# Plot Channel 1\n",
    "plt.figure(figsize=(10, 4))\n",
    "plt.plot(time_axis.numpy(), channel_1.cpu().numpy(), label=\"Channel 1\", color='b')\n",
    "plt.xlabel(\"Time (s)\")\n",
    "plt.ylabel(\"Amplitude\")\n",
    "plt.title(\"Waveform - Channel 1\")\n",
    "plt.grid(True)\n",
    "\n",
    "plt.show()"
   ],
   "metadata": {
    "collapsed": false,
    "ExecuteTime": {
     "end_time": "2023-07-25T15:56:41.529499500Z",
     "start_time": "2023-07-25T15:56:41.393467Z"
    }
   }
  },
  {
   "cell_type": "code",
   "execution_count": 42,
   "outputs": [],
   "source": [
    "# -----------------------------------------------------------------------------------------------\n",
    "class Linear:\n",
    "\n",
    "  def __init__(self, fan_in, fan_out, bias=True):\n",
    "    self.weight = torch.randn((fan_in, fan_out), device=device) / fan_in**0.5 # note: kaiming init\n",
    "    self.bias = torch.zeros(fan_out, device=device) if bias else None\n",
    "\n",
    "  def __call__(self, x):\n",
    "    self.out = x @ self.weight\n",
    "    if self.bias is not None:\n",
    "      self.out += self.bias\n",
    "    return self.out\n",
    "\n",
    "  def parameters(self):\n",
    "    return [self.weight] + ([] if self.bias is None else [self.bias])\n",
    "\n",
    "# -----------------------------------------------------------------------------------------------\n",
    "class BatchNorm1d:\n",
    "\n",
    "  def __init__(self, dim, eps=1e-5, momentum=0.1):\n",
    "    self.eps = eps\n",
    "    self.momentum = momentum\n",
    "    self.training = True\n",
    "    # parameters (trained with backprop)\n",
    "    self.gamma = torch.ones(dim, device=device)\n",
    "    self.beta = torch.zeros(dim, device=device)\n",
    "    # buffers (trained with a running 'momentum update')\n",
    "    self.running_mean = torch.zeros(dim, device=device)\n",
    "    self.running_var = torch.ones(dim, device=device)\n",
    "\n",
    "  def __call__(self, x):\n",
    "    # calculate the forward pass\n",
    "    if self.training:\n",
    "      if x.ndim == 2:\n",
    "        dim = 0\n",
    "      elif x.ndim == 3:\n",
    "        dim = (0,1)\n",
    "      xmean = x.mean(dim, keepdim=True) # batch mean\n",
    "      xvar = x.var(dim, keepdim=True) # batch variance\n",
    "    else:\n",
    "      xmean = self.running_mean\n",
    "      xvar = self.running_var\n",
    "    xhat = (x - xmean) / torch.sqrt(xvar + self.eps) # normalize to unit variance\n",
    "    self.out = self.gamma * xhat + self.beta\n",
    "    # update the buffers\n",
    "    if self.training:\n",
    "      with torch.no_grad():\n",
    "        self.running_mean = (1 - self.momentum) * self.running_mean + self.momentum * xmean\n",
    "        self.running_var = (1 - self.momentum) * self.running_var + self.momentum * xvar\n",
    "    return self.out\n",
    "\n",
    "  def parameters(self):\n",
    "    return [self.gamma, self.beta]\n",
    "\n",
    "# -----------------------------------------------------------------------------------------------\n",
    "class Tanh:\n",
    "  def __call__(self, x):\n",
    "    self.out = torch.tanh(x)\n",
    "    return self.out\n",
    "  def parameters(self):\n",
    "    return []\n",
    "\n",
    "# -----------------------------------------------------------------------------------------------\n",
    "class Embedding:\n",
    "\n",
    "  def __init__(self, num_embeddings, embedding_dim):\n",
    "    self.weight = torch.randn((num_embeddings, embedding_dim))\n",
    "\n",
    "  def __call__(self, IX):\n",
    "    self.out = self.weight[IX]\n",
    "    return self.out\n",
    "\n",
    "  def parameters(self):\n",
    "    return [self.weight]\n",
    "\n",
    "# -----------------------------------------------------------------------------------------------\n",
    "class FlattenConsecutive:\n",
    "\n",
    "  def __init__(self, n):\n",
    "    self.n = n\n",
    "\n",
    "  def __call__(self, x):\n",
    "    B, T, C = x.shape\n",
    "    x = x.view(B, T//self.n, C*self.n)\n",
    "    if x.shape[1] == 1:\n",
    "      x = x.squeeze(1)\n",
    "    self.out = x\n",
    "    return self.out\n",
    "\n",
    "  def parameters(self):\n",
    "    return []\n",
    "\n",
    "# -----------------------------------------------------------------------------------------------\n",
    "class Sequential:\n",
    "\n",
    "  def __init__(self, layers):\n",
    "    self.layers = layers\n",
    "\n",
    "  def __call__(self, x):\n",
    "    for layer in self.layers:\n",
    "      x = layer(x)\n",
    "    self.out = x\n",
    "    return self.out\n",
    "\n",
    "  def parameters(self):\n",
    "    # get parameters of all layers and stretch them out into one list\n",
    "    return [p for layer in self.layers for p in layer.parameters()]"
   ],
   "metadata": {
    "collapsed": false,
    "ExecuteTime": {
     "end_time": "2023-07-25T15:56:41.816408400Z",
     "start_time": "2023-07-25T15:56:41.782408100Z"
    }
   }
  },
  {
   "cell_type": "code",
   "execution_count": 43,
   "outputs": [],
   "source": [
    "torch.manual_seed(42);"
   ],
   "metadata": {
    "collapsed": false,
    "ExecuteTime": {
     "end_time": "2023-07-25T15:56:42.381097800Z",
     "start_time": "2023-07-25T15:56:42.361096800Z"
    }
   }
  },
  {
   "cell_type": "code",
   "execution_count": 87,
   "outputs": [
    {
     "name": "stdout",
     "output_type": "stream",
     "text": [
      "<__main__.Sequential object at 0x0000017B421E0AC0>\n",
      "442\n"
     ]
    }
   ],
   "source": [
    "# Create an instance of the model\n",
    "n_embd = input_size # the dimensionality of the character embedding vectors\n",
    "n_hidden = 4\n",
    "model = Sequential([\n",
    "  # Embedding(X.shape[1], n_embd),\n",
    "  Linear(n_embd, n_hidden, bias=False), BatchNorm1d(n_hidden), nn.ReLU(),\n",
    "  Linear(n_hidden, n_hidden, bias=False), BatchNorm1d(n_hidden), nn.ReLU(),\n",
    "  # FlattenConsecutive(2), Linear(n_hidden*2, n_hidden, bias=False), BatchNorm1d(n_hidden), Tanh(),\n",
    "  Linear(n_hidden, Y.shape[1]),\n",
    "])\n",
    "# Print the model architecture\n",
    "print(model)\n",
    "\n",
    "parameters = model.parameters()\n",
    "print(sum(p.nelement() for p in parameters)) # number of parameters in total\n",
    "for p in parameters:\n",
    "    p.requires_grad = True"
   ],
   "metadata": {
    "collapsed": false,
    "ExecuteTime": {
     "end_time": "2023-07-25T16:13:21.514094500Z",
     "start_time": "2023-07-25T16:13:21.493004300Z"
    }
   }
  },
  {
   "cell_type": "code",
   "execution_count": 107,
   "outputs": [
    {
     "name": "stdout",
     "output_type": "stream",
     "text": [
      "      0/  20000: 0.6896\n",
      "  10000/  20000: 0.4186\n"
     ]
    }
   ],
   "source": [
    "max_steps = 20000\n",
    "batch_size = batch_size\n",
    "lossi = []\n",
    "\n",
    "for i in range(max_steps):\n",
    "    # minibatch construct\n",
    "    ix = torch.randint(0, Xtr.shape[0], (batch_size,))\n",
    "    Xb, Yb = Xtr[ix], Ytr[ix] # batch X,Y\n",
    "\n",
    "    # forward pass\n",
    "    logits = model(Xb)\n",
    "    loss = F.cross_entropy(logits, Yb) # loss function\n",
    "\n",
    "    # backward pass\n",
    "    for p in parameters:\n",
    "        p.grad = None\n",
    "    loss.backward()\n",
    "\n",
    "    # update: simple SGD\n",
    "    lr = 0.1 #if i < 150000 else 0.01 # step learning rate decay\n",
    "    for p in parameters:\n",
    "        p.data += -lr * p.grad\n",
    "\n",
    "    # track stats\n",
    "    if i % 10000 == 0: # print every once in a while\n",
    "        print(f'{i:7d}/{max_steps:7d}: {loss.item():.4f}')\n",
    "    lossi.append(loss.log10().item())"
   ],
   "metadata": {
    "collapsed": false,
    "ExecuteTime": {
     "end_time": "2023-07-25T16:17:06.391722400Z",
     "start_time": "2023-07-25T16:16:24.942215400Z"
    }
   }
  },
  {
   "cell_type": "code",
   "execution_count": 108,
   "outputs": [],
   "source": [
    "for layer in model.layers:\n",
    "    layer.training = False"
   ],
   "metadata": {
    "collapsed": false,
    "ExecuteTime": {
     "end_time": "2023-07-25T16:17:06.408726600Z",
     "start_time": "2023-07-25T16:17:06.393726800Z"
    }
   }
  },
  {
   "cell_type": "code",
   "execution_count": 109,
   "outputs": [
    {
     "name": "stdout",
     "output_type": "stream",
     "text": [
      "train 0.4738635718822479\n",
      "val 0.5924810767173767\n"
     ]
    }
   ],
   "source": [
    "# evaluate the loss\n",
    "@torch.no_grad() # this decorator disables gradient tracking inside pytorch\n",
    "def split_loss(split):\n",
    "  x,y = {\n",
    "    'train': (Xtr, Ytr),\n",
    "    'val': (Xdev, Ydev),\n",
    "    'test': (Xte, Yte),\n",
    "  }[split]\n",
    "  logits = model(x)\n",
    "  loss = F.cross_entropy(logits, y)\n",
    "  print(split, loss.item())\n",
    "\n",
    "split_loss('train')\n",
    "split_loss('val')"
   ],
   "metadata": {
    "collapsed": false,
    "ExecuteTime": {
     "end_time": "2023-07-25T16:17:12.521430300Z",
     "start_time": "2023-07-25T16:17:12.502056700Z"
    }
   }
  },
  {
   "cell_type": "code",
   "execution_count": 110,
   "outputs": [],
   "source": [
    "def check_success_rate(x, y):\n",
    "    s = 0\n",
    "    f = 0\n",
    "    for i in range(x.shape[0]):\n",
    "        predict = torch.argmax(model(x[i]))\n",
    "        actual = torch.argmax(y[i])\n",
    "        if predict.item() == actual.item():\n",
    "            s += 1\n",
    "        else:\n",
    "            f += 1\n",
    "    return s/(s+f)"
   ],
   "metadata": {
    "collapsed": false,
    "ExecuteTime": {
     "end_time": "2023-07-25T16:17:13.366342500Z",
     "start_time": "2023-07-25T16:17:13.356348Z"
    }
   }
  },
  {
   "cell_type": "code",
   "execution_count": 114,
   "outputs": [
    {
     "name": "stdout",
     "output_type": "stream",
     "text": [
      "Test set accuracy:0.60\n",
      "Validation set accuracy:0.72\n",
      "Train set accuracy:0.77\n"
     ]
    }
   ],
   "source": [
    "print(\"Test set accuracy:{:.2f}\".format(check_success_rate(Xte, Yte)))\n",
    "print(\"Validation set accuracy:{:.2f}\".format(check_success_rate(Xdev, Ydev)))\n",
    "print(\"Train set accuracy:{:.2f}\".format(check_success_rate(Xtr, Ytr)))"
   ],
   "metadata": {
    "collapsed": false,
    "ExecuteTime": {
     "end_time": "2023-07-25T16:20:57.584907800Z",
     "start_time": "2023-07-25T16:20:56.377184Z"
    }
   }
  },
  {
   "cell_type": "code",
   "execution_count": 101,
   "outputs": [
    {
     "name": "stdout",
     "output_type": "stream",
     "text": [
      "3\n",
      "4\n",
      "7\n",
      "9\n",
      "13\n",
      "14\n",
      "20\n",
      "22\n",
      "25\n",
      "27\n",
      "30\n",
      "38\n",
      "46\n",
      "48\n",
      "49\n",
      "50\n",
      "54\n",
      "55\n",
      "56\n",
      "62\n",
      "63\n",
      "65\n",
      "79\n",
      "85\n",
      "88\n",
      "89\n",
      "92\n",
      "93\n",
      "99\n",
      "104\n",
      "106\n",
      "108\n",
      "112\n",
      "114\n",
      "115\n",
      "117\n",
      "122\n",
      "123\n",
      "126\n",
      "127\n",
      "128\n",
      "129\n",
      "130\n",
      "133\n",
      "137\n",
      "138\n",
      "139\n",
      "140\n",
      "142\n",
      "151\n",
      "157\n",
      "158\n",
      "161\n",
      "109 53\n"
     ]
    },
    {
     "data": {
      "text/plain": "0.6728395061728395"
     },
     "execution_count": 101,
     "metadata": {},
     "output_type": "execute_result"
    }
   ],
   "source": [
    "check_success_rate(Xdev, Ydev)"
   ],
   "metadata": {
    "collapsed": false,
    "ExecuteTime": {
     "end_time": "2023-07-25T16:14:01.724853600Z",
     "start_time": "2023-07-25T16:14:01.586855200Z"
    }
   }
  },
  {
   "cell_type": "code",
   "execution_count": 102,
   "outputs": [
    {
     "name": "stdout",
     "output_type": "stream",
     "text": [
      "1\n",
      "2\n",
      "4\n",
      "5\n",
      "8\n",
      "10\n",
      "13\n",
      "14\n",
      "16\n",
      "19\n",
      "20\n",
      "21\n",
      "24\n",
      "25\n",
      "29\n",
      "32\n",
      "34\n",
      "37\n",
      "38\n",
      "39\n",
      "40\n",
      "50\n",
      "51\n",
      "60\n",
      "61\n",
      "64\n",
      "69\n",
      "70\n",
      "73\n",
      "76\n",
      "77\n",
      "82\n",
      "83\n",
      "84\n",
      "85\n",
      "88\n",
      "89\n",
      "90\n",
      "93\n",
      "96\n",
      "100\n",
      "101\n",
      "102\n",
      "103\n",
      "107\n",
      "108\n",
      "113\n",
      "114\n",
      "117\n",
      "123\n",
      "129\n",
      "131\n",
      "135\n",
      "137\n",
      "139\n",
      "146\n",
      "147\n",
      "148\n",
      "151\n",
      "152\n",
      "154\n",
      "157\n",
      "158\n",
      "159\n",
      "161\n",
      "163\n",
      "164\n",
      "166\n",
      "167\n",
      "170\n",
      "171\n",
      "174\n",
      "177\n",
      "178\n",
      "179\n",
      "181\n",
      "185\n",
      "186\n",
      "187\n",
      "188\n",
      "194\n",
      "200\n",
      "202\n",
      "203\n",
      "205\n",
      "208\n",
      "216\n",
      "225\n",
      "227\n",
      "228\n",
      "229\n",
      "232\n",
      "235\n",
      "241\n",
      "245\n",
      "249\n",
      "250\n",
      "252\n",
      "260\n",
      "262\n",
      "263\n",
      "267\n",
      "268\n",
      "271\n",
      "283\n",
      "284\n",
      "285\n",
      "289\n",
      "291\n",
      "292\n",
      "294\n",
      "295\n",
      "297\n",
      "298\n",
      "301\n",
      "302\n",
      "306\n",
      "309\n",
      "310\n",
      "313\n",
      "317\n",
      "322\n",
      "323\n",
      "330\n",
      "331\n",
      "335\n",
      "336\n",
      "337\n",
      "340\n",
      "341\n",
      "346\n",
      "353\n",
      "354\n",
      "356\n",
      "357\n",
      "358\n",
      "361\n",
      "368\n",
      "371\n",
      "375\n",
      "378\n",
      "380\n",
      "381\n",
      "383\n",
      "386\n",
      "387\n",
      "388\n",
      "389\n",
      "390\n",
      "391\n",
      "393\n",
      "395\n",
      "399\n",
      "402\n",
      "407\n",
      "409\n",
      "418\n",
      "422\n",
      "429\n",
      "432\n",
      "435\n",
      "437\n",
      "443\n",
      "447\n",
      "449\n",
      "451\n",
      "452\n",
      "454\n",
      "457\n",
      "460\n",
      "461\n",
      "462\n",
      "466\n",
      "467\n",
      "468\n",
      "472\n",
      "473\n",
      "482\n",
      "484\n",
      "487\n",
      "488\n",
      "490\n",
      "493\n",
      "494\n",
      "496\n",
      "498\n",
      "499\n",
      "503\n",
      "506\n",
      "510\n",
      "511\n",
      "514\n",
      "515\n",
      "516\n",
      "517\n",
      "519\n",
      "520\n",
      "527\n",
      "529\n",
      "531\n",
      "534\n",
      "540\n",
      "541\n",
      "545\n",
      "547\n",
      "549\n",
      "551\n",
      "556\n",
      "557\n",
      "558\n",
      "559\n",
      "560\n",
      "575\n",
      "576\n",
      "577\n",
      "579\n",
      "583\n",
      "587\n",
      "594\n",
      "596\n",
      "597\n",
      "603\n",
      "604\n",
      "606\n",
      "608\n",
      "609\n",
      "613\n",
      "618\n",
      "621\n",
      "623\n",
      "624\n",
      "625\n",
      "628\n",
      "629\n",
      "635\n",
      "640\n",
      "641\n",
      "643\n",
      "647\n",
      "650\n",
      "651\n",
      "657\n",
      "663\n",
      "665\n",
      "666\n",
      "670\n",
      "673\n",
      "676\n",
      "677\n",
      "682\n",
      "683\n",
      "688\n",
      "699\n",
      "701\n",
      "703\n",
      "704\n",
      "705\n",
      "706\n",
      "707\n",
      "710\n",
      "713\n",
      "718\n",
      "720\n",
      "724\n",
      "726\n",
      "727\n",
      "729\n",
      "734\n",
      "735\n",
      "736\n",
      "739\n",
      "740\n",
      "742\n",
      "745\n",
      "748\n",
      "749\n",
      "751\n",
      "752\n",
      "755\n",
      "756\n",
      "757\n",
      "758\n",
      "765\n",
      "767\n",
      "770\n",
      "775\n",
      "777\n",
      "780\n",
      "787\n",
      "789\n",
      "797\n",
      "799\n",
      "802\n",
      "803\n",
      "807\n",
      "811\n",
      "812\n",
      "813\n",
      "816\n",
      "819\n",
      "823\n",
      "825\n",
      "829\n",
      "832\n",
      "838\n",
      "842\n",
      "844\n",
      "845\n",
      "848\n",
      "851\n",
      "854\n",
      "860\n",
      "861\n",
      "866\n",
      "869\n",
      "872\n",
      "878\n",
      "881\n",
      "886\n",
      "889\n",
      "891\n",
      "893\n",
      "897\n",
      "900\n",
      "908\n",
      "909\n",
      "913\n",
      "914\n",
      "916\n",
      "919\n",
      "923\n",
      "924\n",
      "925\n",
      "926\n",
      "932\n",
      "936\n",
      "941\n",
      "944\n",
      "946\n",
      "947\n",
      "949\n",
      "951\n",
      "954\n",
      "965\n",
      "973\n",
      "977\n",
      "980\n",
      "983\n",
      "985\n",
      "986\n",
      "989\n",
      "990\n",
      "992\n",
      "996\n",
      "997\n",
      "998\n",
      "999\n",
      "1000\n",
      "1002\n",
      "1006\n",
      "1008\n",
      "1009\n",
      "1011\n",
      "1013\n",
      "1017\n",
      "1018\n",
      "1022\n",
      "1023\n",
      "1024\n",
      "1025\n",
      "1026\n",
      "1028\n",
      "1032\n",
      "1037\n",
      "1038\n",
      "1042\n",
      "1045\n",
      "1046\n",
      "1048\n",
      "1050\n",
      "1051\n",
      "1056\n",
      "1060\n",
      "1064\n",
      "1070\n",
      "1071\n",
      "1073\n",
      "1076\n",
      "1077\n",
      "1082\n",
      "1086\n",
      "1091\n",
      "1093\n",
      "1095\n",
      "1096\n",
      "1100\n",
      "1101\n",
      "1112\n",
      "1114\n",
      "1115\n",
      "1119\n",
      "1120\n",
      "1121\n",
      "1125\n",
      "1126\n",
      "1129\n",
      "1130\n",
      "1135\n",
      "1137\n",
      "1139\n",
      "1140\n",
      "1141\n",
      "1144\n",
      "1146\n",
      "1148\n",
      "1152\n",
      "1153\n",
      "1154\n",
      "1155\n",
      "1156\n",
      "1157\n",
      "1159\n",
      "1161\n",
      "1163\n",
      "1165\n",
      "1166\n",
      "1167\n",
      "1171\n",
      "1175\n",
      "1176\n",
      "1178\n",
      "1179\n",
      "1183\n",
      "1184\n",
      "1190\n",
      "1192\n",
      "1193\n",
      "1197\n",
      "1201\n",
      "1202\n",
      "1204\n",
      "1211\n",
      "1212\n",
      "1219\n",
      "1220\n",
      "1221\n",
      "1222\n",
      "1224\n",
      "1227\n",
      "1230\n",
      "1236\n",
      "1238\n",
      "1243\n",
      "1244\n",
      "1245\n",
      "1247\n",
      "1251\n",
      "1254\n",
      "1257\n",
      "1259\n",
      "1261\n",
      "1262\n",
      "1265\n",
      "1267\n",
      "1269\n",
      "1270\n",
      "1273\n",
      "1275\n",
      "1277\n",
      "1278\n",
      "1279\n",
      "1280\n",
      "1284\n",
      "1285\n",
      "1289\n",
      "1290\n",
      "820 476\n"
     ]
    },
    {
     "data": {
      "text/plain": "0.6327160493827161"
     },
     "execution_count": 102,
     "metadata": {},
     "output_type": "execute_result"
    }
   ],
   "source": [
    "check_success_rate(Xtr, Ytr)"
   ],
   "metadata": {
    "collapsed": false,
    "ExecuteTime": {
     "end_time": "2023-07-25T16:14:06.474859200Z",
     "start_time": "2023-07-25T16:14:05.538860900Z"
    }
   }
  },
  {
   "cell_type": "code",
   "execution_count": 65,
   "outputs": [
    {
     "data": {
      "text/plain": "tensor([[ 2.4348, -1.9880]], device='cuda:0', grad_fn=<AddBackward0>)"
     },
     "execution_count": 65,
     "metadata": {},
     "output_type": "execute_result"
    }
   ],
   "source": [
    "model(Xte[0])"
   ],
   "metadata": {
    "collapsed": false,
    "ExecuteTime": {
     "end_time": "2023-07-25T16:04:51.133473500Z",
     "start_time": "2023-07-25T16:04:51.111664100Z"
    }
   }
  },
  {
   "cell_type": "code",
   "execution_count": 67,
   "outputs": [
    {
     "data": {
      "text/plain": "tensor([0.4444, 0.2229, 0.4371, 0.6905, 0.2633, 0.5706, 0.4074, 0.5665, 0.4579,\n        0.8216, 0.2344, 0.5647, 0.7493, 0.3219, 0.6740, 0.2687, 0.5068, 0.4277,\n        0.4161, 0.8039, 0.2151, 0.6452, 0.3584, 0.3566, 0.5357, 0.4774, 0.3057,\n        0.4036, 0.6197, 0.3618, 0.4643, 0.4748, 0.4018, 0.3344, 0.4203, 0.5064,\n        0.3218, 0.6734, 0.5255, 0.6167, 0.4336, 0.3846, 0.6171, 0.3501, 0.9794,\n        0.5263, 0.7117, 0.6370, 0.5035, 0.6021, 0.4425, 0.5381, 0.4013, 0.7352,\n        0.3252, 0.3356, 0.4932, 0.4518, 0.7298, 0.4947, 0.4107, 0.6712, 0.5656,\n        0.8489, 0.5024, 0.5744, 0.4326, 0.4699, 0.6374, 0.5924, 0.7137, 0.1929,\n        0.6993, 0.4634, 0.5830, 0.7409, 0.4228, 0.5917, 0.5538, 0.5182, 0.4322,\n        0.4870, 0.5816, 0.6633, 0.6372, 0.4417, 0.1931, 0.5103, 0.8260, 0.4936,\n        0.6856, 0.5103, 0.4983, 0.6505, 0.3702, 0.7185, 0.2876, 0.6573, 0.3928,\n        0.5222], device='cuda:0')"
     },
     "execution_count": 67,
     "metadata": {},
     "output_type": "execute_result"
    }
   ],
   "source": [
    "Yte[0]"
   ],
   "metadata": {
    "collapsed": false,
    "ExecuteTime": {
     "end_time": "2023-07-25T16:04:59.851551200Z",
     "start_time": "2023-07-25T16:04:59.824556300Z"
    }
   }
  },
  {
   "cell_type": "code",
   "execution_count": 207,
   "outputs": [],
   "source": [
    "a = torch.argmax(Yte[0])"
   ],
   "metadata": {
    "collapsed": false,
    "ExecuteTime": {
     "end_time": "2023-07-25T03:19:14.510591900Z",
     "start_time": "2023-07-25T03:19:14.486009300Z"
    }
   }
  },
  {
   "cell_type": "code",
   "execution_count": 208,
   "outputs": [
    {
     "data": {
      "text/plain": "0"
     },
     "execution_count": 208,
     "metadata": {},
     "output_type": "execute_result"
    }
   ],
   "source": [
    "a.item()"
   ],
   "metadata": {
    "collapsed": false,
    "ExecuteTime": {
     "end_time": "2023-07-25T03:19:15.421442Z",
     "start_time": "2023-07-25T03:19:15.392447600Z"
    }
   }
  },
  {
   "cell_type": "code",
   "execution_count": 209,
   "outputs": [
    {
     "data": {
      "text/plain": "tensor([ 9.4727e-02,  3.6530e-02,  1.2695e-01, -1.4178e-01,  3.7903e-02,\n         9.8724e-02, -1.6479e-02,  8.1024e-02,  1.1444e-02, -2.6184e-02,\n         6.8390e-02,  1.2677e-01, -3.1708e-02,  2.1423e-02, -1.6006e-01,\n        -2.0874e-02,  4.1870e-02, -1.1392e-01, -1.4423e-01, -1.0892e-01,\n        -6.4301e-02, -2.0325e-02, -2.1628e-01,  3.1772e-01, -1.3123e-03,\n         1.1786e-01,  3.0212e-02,  1.0275e-01, -1.6113e-02, -8.0109e-02,\n        -6.9641e-02, -1.1429e-01,  8.3954e-02, -1.5683e-01,  8.4259e-02,\n         3.5553e-02,  3.9276e-02,  6.3477e-03,  8.1177e-03,  1.2756e-02,\n        -7.5867e-02,  1.3336e-02, -3.3142e-02,  5.7373e-03,  3.7720e-02,\n         7.0801e-02,  4.8615e-02, -1.1591e-01, -3.1189e-02, -2.6947e-02,\n        -3.5309e-02,  1.3440e-01, -6.7444e-03,  6.8390e-02,  7.0190e-02,\n        -2.7313e-02,  2.0813e-02,  5.3711e-03, -4.3762e-02, -1.8860e-02,\n         6.9122e-02,  9.1156e-02,  1.1169e-02, -6.0669e-02,  1.5472e-02,\n         8.3588e-02,  1.1322e-02,  3.9032e-02, -1.0132e-02, -1.6052e-02,\n        -9.8907e-02,  4.9133e-02, -7.8674e-02,  8.1818e-02, -9.9030e-02,\n         1.2097e-01,  6.9275e-02, -8.5571e-02, -4.2548e-01,  4.3976e-02,\n        -1.2106e-01, -2.4503e-01,  2.8503e-02, -1.1209e-01,  1.7334e-01,\n         3.7231e-03,  3.9984e-01,  5.7678e-02, -3.8391e-02,  6.1279e-02,\n        -1.6815e-02, -1.8311e-04, -8.3893e-02, -3.0731e-02,  3.9001e-02,\n        -1.7242e-02,  1.9461e-01,  2.3019e-01, -3.1494e-02,  2.9550e-01],\n       device='cuda:0')"
     },
     "execution_count": 209,
     "metadata": {},
     "output_type": "execute_result"
    }
   ],
   "source": [
    "Xtr[104]"
   ],
   "metadata": {
    "collapsed": false,
    "ExecuteTime": {
     "end_time": "2023-07-25T03:19:15.817499300Z",
     "start_time": "2023-07-25T03:19:15.766573200Z"
    }
   }
  },
  {
   "cell_type": "code",
   "execution_count": 141,
   "outputs": [
    {
     "data": {
      "text/plain": "tensor([0., 1.], device='cuda:0')"
     },
     "execution_count": 141,
     "metadata": {},
     "output_type": "execute_result"
    }
   ],
   "source": [
    "Ytr[104]"
   ],
   "metadata": {
    "collapsed": false,
    "ExecuteTime": {
     "end_time": "2023-07-25T02:12:54.949315500Z",
     "start_time": "2023-07-25T02:12:54.899183Z"
    }
   }
  }
 ],
 "metadata": {
  "kernelspec": {
   "display_name": "Python 3",
   "language": "python",
   "name": "python3"
  },
  "language_info": {
   "codemirror_mode": {
    "name": "ipython",
    "version": 2
   },
   "file_extension": ".py",
   "mimetype": "text/x-python",
   "name": "python",
   "nbconvert_exporter": "python",
   "pygments_lexer": "ipython2",
   "version": "2.7.6"
  }
 },
 "nbformat": 4,
 "nbformat_minor": 0
}
